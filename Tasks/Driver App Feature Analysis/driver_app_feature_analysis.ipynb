{
 "metadata": {
  "language_info": {
   "codemirror_mode": {
    "name": "ipython",
    "version": 3
   },
   "file_extension": ".py",
   "mimetype": "text/x-python",
   "name": "python",
   "nbconvert_exporter": "python",
   "pygments_lexer": "ipython3",
   "version": "3.7.6-final"
  },
  "orig_nbformat": 2,
  "kernelspec": {
   "name": "python_defaultSpec_1600531648660",
   "display_name": "Python 3.7.6 64-bit ('anaconda3': virtualenv)"
  }
 },
 "nbformat": 4,
 "nbformat_minor": 2,
 "cells": [
  {
   "cell_type": "code",
   "execution_count": 17,
   "metadata": {},
   "outputs": [],
   "source": [
    "import pandas as pd\n",
    "import numpy as np"
   ]
  },
  {
   "source": [
    "## Reading our Dataset."
   ],
   "cell_type": "markdown",
   "metadata": {}
  },
  {
   "cell_type": "code",
   "execution_count": 26,
   "metadata": {
    "tags": []
   },
   "outputs": [
    {
     "output_type": "execute_result",
     "data": {
      "text/plain": "   Driver  Tours within one week after the update Test Group\n0       1                                      88          A\n1       2                                      56          B\n2       3                                      80          B\n3       4                                      49          A\n4       5                                      61          A",
      "text/html": "<div>\n<style scoped>\n    .dataframe tbody tr th:only-of-type {\n        vertical-align: middle;\n    }\n\n    .dataframe tbody tr th {\n        vertical-align: top;\n    }\n\n    .dataframe thead th {\n        text-align: right;\n    }\n</style>\n<table border=\"1\" class=\"dataframe\">\n  <thead>\n    <tr style=\"text-align: right;\">\n      <th></th>\n      <th>Driver</th>\n      <th>Tours within one week after the update</th>\n      <th>Test Group</th>\n    </tr>\n  </thead>\n  <tbody>\n    <tr>\n      <th>0</th>\n      <td>1</td>\n      <td>88</td>\n      <td>A</td>\n    </tr>\n    <tr>\n      <th>1</th>\n      <td>2</td>\n      <td>56</td>\n      <td>B</td>\n    </tr>\n    <tr>\n      <th>2</th>\n      <td>3</td>\n      <td>80</td>\n      <td>B</td>\n    </tr>\n    <tr>\n      <th>3</th>\n      <td>4</td>\n      <td>49</td>\n      <td>A</td>\n    </tr>\n    <tr>\n      <th>4</th>\n      <td>5</td>\n      <td>61</td>\n      <td>A</td>\n    </tr>\n  </tbody>\n</table>\n</div>"
     },
     "metadata": {},
     "execution_count": 26
    }
   ],
   "source": [
    "data = pd.read_csv('/Users/alejandropalacios/Desktop/Ironhack/Personal Endeavors/FN_Assesstment/Datasets/Driver_App_Feature.csv')\n",
    "\n",
    "data.head()"
   ]
  },
  {
   "source": [
    "### We wanted to find out if a certain email campaign works to incentivise the driver to be more active in our platform.\n",
    "\n",
    "### To do so we divided the drivers in two groups A and B. \n",
    "\n",
    "### - B received an email informing drivers of when we expect high customer demand in the following week. \n",
    "\n",
    "### - A did not receive the email."
   ],
   "cell_type": "markdown",
   "metadata": {}
  },
  {
   "source": [
    "### A. Please find out about the effect of the campaign."
   ],
   "cell_type": "markdown",
   "metadata": {}
  },
  {
   "cell_type": "code",
   "execution_count": 31,
   "metadata": {},
   "outputs": [
    {
     "output_type": "execute_result",
     "data": {
      "text/plain": "            Driver Count  Tours within one week after the update\nTest Group                                                      \nA                   5000                                  250225\nB                   5000                                  260584",
      "text/html": "<div>\n<style scoped>\n    .dataframe tbody tr th:only-of-type {\n        vertical-align: middle;\n    }\n\n    .dataframe tbody tr th {\n        vertical-align: top;\n    }\n\n    .dataframe thead th {\n        text-align: right;\n    }\n</style>\n<table border=\"1\" class=\"dataframe\">\n  <thead>\n    <tr style=\"text-align: right;\">\n      <th></th>\n      <th>Driver Count</th>\n      <th>Tours within one week after the update</th>\n    </tr>\n    <tr>\n      <th>Test Group</th>\n      <th></th>\n      <th></th>\n    </tr>\n  </thead>\n  <tbody>\n    <tr>\n      <th>A</th>\n      <td>5000</td>\n      <td>250225</td>\n    </tr>\n    <tr>\n      <th>B</th>\n      <td>5000</td>\n      <td>260584</td>\n    </tr>\n  </tbody>\n</table>\n</div>"
     },
     "metadata": {},
     "execution_count": 31
    }
   ],
   "source": [
    "# To answer this question let's first pivot our Dataset, in order to see the Groups Distribution. \n",
    "\n",
    "pivot = pd.pivot_table(data, \n",
    "            values=['Driver', 'Tours within one week after the update'],\n",
    "                index=['Test Group'],\n",
    "                    aggfunc={'Driver': 'count', 'Tours within one week after the update': np.sum}).rename(columns={'Driver': 'Driver Count'})\n",
    "\n",
    "pivot"
   ]
  },
  {
   "cell_type": "code",
   "execution_count": null,
   "metadata": {},
   "outputs": [],
   "source": [
    "\"\"\"\n",
    "\n",
    "At a first glance, it seems that the email had a positive impact regarding Tours Completed after it was sent. However, there are certain things we must consider in order to properly conceive the Email as the sole provider of a 10K+ spike in Tours. Let's study that in the following subsection.\n",
    "\n",
    "\"\"\""
   ]
  },
  {
   "source": [
    "### B. Explain how you determine the impact and why you chose this method."
   ],
   "cell_type": "markdown",
   "metadata": {}
  },
  {
   "cell_type": "code",
   "execution_count": 56,
   "metadata": {
    "tags": []
   },
   "outputs": [
    {
     "output_type": "execute_result",
     "data": {
      "text/plain": "Test Group                                         A       B  \\\nTotal Tours within one week after the update  250225  260584   \n\nTest Group                                   Campaign Impact in Tours  \nTotal Tours within one week after the update                    4.14%  ",
      "text/html": "<div>\n<style scoped>\n    .dataframe tbody tr th:only-of-type {\n        vertical-align: middle;\n    }\n\n    .dataframe tbody tr th {\n        vertical-align: top;\n    }\n\n    .dataframe thead th {\n        text-align: right;\n    }\n</style>\n<table border=\"1\" class=\"dataframe\">\n  <thead>\n    <tr style=\"text-align: right;\">\n      <th>Test Group</th>\n      <th>A</th>\n      <th>B</th>\n      <th>Campaign Impact in Tours</th>\n    </tr>\n  </thead>\n  <tbody>\n    <tr>\n      <th>Total Tours within one week after the update</th>\n      <td>250225</td>\n      <td>260584</td>\n      <td>4.14%</td>\n    </tr>\n  </tbody>\n</table>\n</div>"
     },
     "metadata": {},
     "execution_count": 56
    }
   ],
   "source": [
    "# We only have 3 variables for studying, Driver ID,\thow many Tours he or she made within one week after the update, and to which Test Group did he or she belonged to. Thus, we can determine impact as how much more Tours Drivers who received the Email made, as a Total Sum, and as a by-Driver Average. \n",
    "\n",
    "# 1. Pivot our Data to show Total Impact. \n",
    "\n",
    "pivott = pd.pivot_table(data,\n",
    "            values=['Tours within one week after the update'],\n",
    "                columns=['Test Group'],\n",
    "                    aggfunc={'Tours within one week after the update': np.sum}).rename(\n",
    "                        index={'Tours within one week after the update':'Total Tours within one week after the update'})\n",
    "\n",
    "pivott['Campaign Impact in Tours'] = [\"{0:.2f}%\".format(val * 100) for val in (pivott['B']/pivott['A'] - 1)] \n",
    "\n",
    "pivott"
   ]
  },
  {
   "cell_type": "code",
   "execution_count": 59,
   "metadata": {},
   "outputs": [
    {
     "output_type": "execute_result",
     "data": {
      "text/plain": "Test Group                                             A     B  \\\nAverage Tours by Driver within one week after t...  50.0  52.0   \n\nTest Group                                         Campaign Impact in Tours  \nAverage Tours by Driver within one week after t...                    4.00%  ",
      "text/html": "<div>\n<style scoped>\n    .dataframe tbody tr th:only-of-type {\n        vertical-align: middle;\n    }\n\n    .dataframe tbody tr th {\n        vertical-align: top;\n    }\n\n    .dataframe thead th {\n        text-align: right;\n    }\n</style>\n<table border=\"1\" class=\"dataframe\">\n  <thead>\n    <tr style=\"text-align: right;\">\n      <th>Test Group</th>\n      <th>A</th>\n      <th>B</th>\n      <th>Campaign Impact in Tours</th>\n    </tr>\n  </thead>\n  <tbody>\n    <tr>\n      <th>Average Tours by Driver within one week after the update</th>\n      <td>50.0</td>\n      <td>52.0</td>\n      <td>4.00%</td>\n    </tr>\n  </tbody>\n</table>\n</div>"
     },
     "metadata": {},
     "execution_count": 59
    }
   ],
   "source": [
    "# 2. Pivot our Data to show Impact by Driver. \n",
    "\n",
    "pivottt = np.round(pd.pivot_table(data,\n",
    "            values=['Tours within one week after the update'],\n",
    "                columns=['Test Group'],\n",
    "                    aggfunc={'Tours within one week after the update': np.mean}),0).rename(\n",
    "                        index={'Tours within one week after the update':'Average Tours by Driver within one week after the update'})\n",
    "\n",
    "pivottt['Campaign Impact in Tours'] = [\"{0:.2f}%\".format(val * 100) for val in (pivottt['B']/pivottt['A'] - 1)] \n",
    "\n",
    "pivottt"
   ]
  },
  {
   "cell_type": "code",
   "execution_count": null,
   "metadata": {},
   "outputs": [],
   "source": [
    "\"\"\"\n",
    "\n",
    "As it can be observed, the Campaign had a \"mild\" 4% improvement in Tours, however, it must be noted that emails are part of an extensive Communications Toolset, and they come with virtually 0 costs attached. \n",
    "\n",
    "All other things being constant, the Email had a 4% positive impact on Total Tours, which translates into an equal 4% positive impact on Average Tours by Driver. \n",
    "\n",
    "\"\"\""
   ]
  },
  {
   "cell_type": "code",
   "execution_count": null,
   "metadata": {},
   "outputs": [],
   "source": [
    "\"\"\"\n",
    "\n",
    "Finally, an important spread of extra variables can be studied to see if an Email was necesarily the culprit for spiking Tours in 4%.\n",
    "\n",
    "- Driver User Stage: see the spread of how many All-Star-Drivers every Group has, and confirm both samples are balanced. \n",
    "- Driver User Stage: confirm there are no churned or about-to-churn Drivers in Group A.\n",
    "- Study the Schedule of the Average Driver for both Groups: Group B Drivers may have benefited from their own working schedule, this is, if they Drive in a timeframe where more Tour Rotation is a given (let's say Rush Hour), the Experiment could be skewed to show positive impact from whatever de dependant variable is. \n",
    "\n",
    "\"\"\""
   ]
  }
 ]
}