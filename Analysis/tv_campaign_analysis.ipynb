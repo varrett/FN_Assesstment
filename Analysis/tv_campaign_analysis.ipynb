{
 "metadata": {
  "language_info": {
   "codemirror_mode": {
    "name": "ipython",
    "version": 3
   },
   "file_extension": ".py",
   "mimetype": "text/x-python",
   "name": "python",
   "nbconvert_exporter": "python",
   "pygments_lexer": "ipython3",
   "version": "3.7.6-final"
  },
  "orig_nbformat": 2,
  "kernelspec": {
   "name": "python_defaultSpec_1600443386194",
   "display_name": "Python 3.7.6 64-bit ('base': conda)"
  }
 },
 "nbformat": 4,
 "nbformat_minor": 2,
 "cells": [
  {
   "cell_type": "code",
   "execution_count": 1,
   "metadata": {},
   "outputs": [],
   "source": [
    "import pandas as pd\n",
    "import numpy as np\n",
    "import datetime as dt\n"
   ]
  },
  {
   "source": [
    "#### First, let's read our dataset:"
   ],
   "cell_type": "markdown",
   "metadata": {}
  },
  {
   "cell_type": "code",
   "execution_count": 2,
   "metadata": {
    "tags": []
   },
   "outputs": [
    {
     "output_type": "stream",
     "name": "stdout",
     "text": "<class 'pandas.core.frame.DataFrame'>\nRangeIndex: 64 entries, 0 to 63\nData columns (total 6 columns):\n #   Column                           Non-Null Count  Dtype         \n---  ------                           --------------  -----         \n 0   Campaign                         2 non-null      object        \n 1   Date                             64 non-null     datetime64[ns]\n 2   New Active Passengers            64 non-null     int64         \n 3   Tours                            64 non-null     int64         \n 4   New User Registrations           64 non-null     int64         \n 5   App Downloads (Android and iOS)  64 non-null     int64         \ndtypes: datetime64[ns](1), int64(4), object(1)\nmemory usage: 3.1+ KB\n"
    }
   ],
   "source": [
    "data = pd.read_csv(\"../Datasets/TV_Campaign.csv\",parse_dates=['Date'],dayfirst=True)\n",
    "\n",
    "data.info()"
   ]
  },
  {
   "source": [
    "## Now for the questions provided in the Excel File.\n",
    "\n",
    "\n",
    "\n",
    "### We ran a TV campaign  with the goal of growing our customer base and want to find out about the impact it had on our customer acquisition kpis."
   ],
   "cell_type": "markdown",
   "metadata": {}
  },
  {
   "source": [
    "### A. Which measure or measures are most relevant to judge the success of the campaign.\t\t\t\t\t\t\t\t\n"
   ],
   "cell_type": "markdown",
   "metadata": {}
  },
  {
   "cell_type": "code",
   "execution_count": 13,
   "metadata": {},
   "outputs": [
    {
     "output_type": "execute_result",
     "data": {
      "text/plain": "   Week_Number  App Downloads (Android and iOS)  New User Registrations  \\\n0           41                             6988                    6662   \n1           42                             7459                    7218   \n2           43                             7501                    7251   \n3           44                             7673                    7533   \n4           45                             6414                    6180   \n\n   New Active Passengers  Tours  \n0                   3619  22571  \n1                   4034  23547  \n2                   4205  24113  \n3                   3822  24435  \n4                   4076  24463  ",
      "text/html": "<div>\n<style scoped>\n    .dataframe tbody tr th:only-of-type {\n        vertical-align: middle;\n    }\n\n    .dataframe tbody tr th {\n        vertical-align: top;\n    }\n\n    .dataframe thead th {\n        text-align: right;\n    }\n</style>\n<table border=\"1\" class=\"dataframe\">\n  <thead>\n    <tr style=\"text-align: right;\">\n      <th></th>\n      <th>Week_Number</th>\n      <th>App Downloads (Android and iOS)</th>\n      <th>New User Registrations</th>\n      <th>New Active Passengers</th>\n      <th>Tours</th>\n    </tr>\n  </thead>\n  <tbody>\n    <tr>\n      <th>0</th>\n      <td>41</td>\n      <td>6988</td>\n      <td>6662</td>\n      <td>3619</td>\n      <td>22571</td>\n    </tr>\n    <tr>\n      <th>1</th>\n      <td>42</td>\n      <td>7459</td>\n      <td>7218</td>\n      <td>4034</td>\n      <td>23547</td>\n    </tr>\n    <tr>\n      <th>2</th>\n      <td>43</td>\n      <td>7501</td>\n      <td>7251</td>\n      <td>4205</td>\n      <td>24113</td>\n    </tr>\n    <tr>\n      <th>3</th>\n      <td>44</td>\n      <td>7673</td>\n      <td>7533</td>\n      <td>3822</td>\n      <td>24435</td>\n    </tr>\n    <tr>\n      <th>4</th>\n      <td>45</td>\n      <td>6414</td>\n      <td>6180</td>\n      <td>4076</td>\n      <td>24463</td>\n    </tr>\n  </tbody>\n</table>\n</div>"
     },
     "metadata": {},
     "execution_count": 13
    }
   ],
   "source": [
    "# To answer this question let's first examine the historic evolution of New Active Passengers (NAP) and New User Registrations (NUR) throughout the dataset's timeframe, as well as the NAP Contribution to Tours. \n",
    "\n",
    "# Studying Usage Conversion from App Downloads to NUP, to NAP would finally tell us about the health of our Passenger Acquisition Funnel and where do we have opportunity areas to communicate certain messages to incentivise demand. \n",
    "\n",
    "# 1. Filtering the data.\n",
    "\n",
    "df = data[['Date', 'New Active Passengers', 'Tours', 'New User Registrations', 'App Downloads (Android and iOS)']]\n",
    "\n",
    "# 2. Parsing the date as Weeks of the year.\n",
    "\n",
    "df['Week_Number'] = df['Date'].dt.week\n",
    "\n",
    "# 3. Study NUR and NAP evolution in an WoW manner. \n",
    "\n",
    "pivot = pd.DataFrame(\n",
    "        data=np.round(pd.pivot_table(df, \n",
    "            values=['New User Registrations', 'New Active Passengers', 'App Downloads (Android and iOS)', 'Tours'],\n",
    "                index=['Week_Number'],\n",
    "                    aggfunc={'New User Registrations': np.mean, 'New Active Passengers': np.mean, 'App Downloads (Android and iOS)': np.mean, 'Tours': np.mean}),0)                         .reset_index(),\n",
    "                            dtype=np.int64)\n",
    "\n",
    "pivot = pivot[['Week_Number', 'App Downloads (Android and iOS)', 'New User Registrations', 'New Active Passengers', 'Tours']]\n",
    "\n",
    "pivot['App_dl_evo'] = "
   ]
  },
  {
   "cell_type": "code",
   "execution_count": 4,
   "metadata": {},
   "outputs": [],
   "source": [
    "# B. Identify the impact on activity that the TV campaign had while it was running. \t\t\t\t\t\t\t\t\n",
    "\t"
   ]
  },
  {
   "cell_type": "code",
   "execution_count": 5,
   "metadata": {},
   "outputs": [],
   "source": [
    "# C. Assuming a total cost of 1 million euro for the campaign, what was the CPA through the campaign.\t\t\t\t\t\t\t"
   ]
  }
 ]
}